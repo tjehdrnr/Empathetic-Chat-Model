{
 "cells": [
  {
   "cell_type": "code",
   "execution_count": 16,
   "metadata": {},
   "outputs": [],
   "source": [
    "import faiss\n",
    "import time\n",
    "import numpy as np\n",
    "\n",
    "from FlagEmbedding import BGEM3FlagModel\n",
    "from backend.docstore import DocumentStore\n",
    "from backend.retriever import FaissRetriever\n"
   ]
  },
  {
   "cell_type": "markdown",
   "metadata": {},
   "source": [
    "### 검증용 모의 데이터"
   ]
  },
  {
   "cell_type": "code",
   "execution_count": 17,
   "metadata": {},
   "outputs": [],
   "source": [
    "conversations = [\n",
    "    (\"user\", \"안녕하세요!\"),\n",
    "    (\"assistant\", \"안녕하세요! 반갑습니다. 무엇을 도와드릴까요?\"),\n",
    "    (\"user\", \"요즘 삶이 너무 무료하고 심심해요.\"),\n",
    "    (\"assistant\", \"그렇다면 새로운 취미를 찾아보는 건 어떨까요? 예를 들어 사이클이나 런닝같은 활동적인 것들은 어떤가요?\"),\n",
    "    (\"user\", \"오늘 날씨가 어때요?\"),\n",
    "    (\"assistant\", \"죄송하지만 저는 실시간 날씨 정보를 제공할 수 없습니다. 대신 일반적인 날씨 관련 조언을 드릴 수 있어요.\"),\n",
    "    (\"user\", \"그럼 여름철 더위 대비 팁 좀 알려주세요.\"),\n",
    "    (\"assistant\", \"여름철 더위 대비 팁을 알려드리겠습니다. 1. 충분한 수분 섭취 2. 헐렁한 옷 입기 3. 그늘에서 쉬기 4. 선크림 바르기 5. 에어컨 적절히 사용하기\"),\n",
    "    (\"user\", \"고마워요. 이제 다른 주제로 넘어갈게요. 취미 추천해주세요.\"),\n",
    "    (\"assistant\", \"취미 추천 드리겠습니다. 1. 독서 2. 요리 3. 그림 그리기 4. 운동 (조깅, 요가 등) 5. 악기 연주 6. 정원 가꾸기 7. 사진 촬영 8. 외국어 공부. 이 중에서 관심 있는 것이 있나요?\"),\n",
    "    (\"user\", \"음악에 관심이 있어요. 피아노를 배우고 싶은데 어떻게 시작하면 좋을까요?\"),\n",
    "    (\"assistant\", \"피아노를 배우고 싶으시군요! 좋은 선택입니다. 시작하는 방법을 알려드리겠습니다. 1. 기초 악보 읽기 연습 2. 간단한 디지털 피아노나 키보드 구매 3. 온라인 무료 레슨 영상 활용 4. 근처 음악학원 등록 고려 5. 매일 조금씩이라도 연습하기. 천천히 시작해서 꾸준히 하는 것이 중요해요!\"),\n",
    "    (\"user\", \"좋은 조언 고마워요. 이제 좀 피곤한데 재미있는 이야기 해줄래요?\"),\n",
    "    (\"assistant\", \"물론이죠! 재미있는 이야기를 해드리겠습니다. 옛날 옛적에 한 농부가 있었어요. 이 농부는 매일 아침 닭장에 가서 황금알을 낳는 거위를 확인했답니다. 어느 날, 농부는 욕심이 생겨 '거위 배 안에 황금 덩어리가 있을 거야!'라고 생각했어요. 그래서 거위를 잡아 배를 갈랐죠. 하지만 안타깝게도 배 안에는 아무것도 없었고, 황금알을 낳는 거위는 죽고 말았답니다. 이 이야기의 교훈은 '욕심을 부리다 보면 가진 것마저 잃을 수 있다'는 거예요. 재미있게 들으셨나요?\"),\n",
    "    (\"user\", \"네, 재미있었어요. 이제 자러 갈게요. 잘자요!\"),\n",
    "    (\"assistant\", \"네, 잘 들어주셔서 감사합니다. 좋은 꿈 꾸세요! 편안한 밤 되세요. 내일도 좋은 하루 되길 바랄게요. 안녕히 주무세요!\")\n",
    "]"
   ]
  },
  {
   "cell_type": "code",
   "execution_count": 18,
   "metadata": {},
   "outputs": [
    {
     "name": "stderr",
     "output_type": "stream",
     "text": [
      "Fetching 30 files: 100%|██████████| 30/30 [00:00<?, ?it/s]\n",
      "INFO:FlagEmbedding.BGE_M3.modeling:loading existing colbert_linear and sparse_linear---------\n"
     ]
    }
   ],
   "source": [
    "embedding_model = BGEM3FlagModel('BAAI/bge-m3', use_fp16=True)\n",
    "index = faiss.IndexFlatL2(1024) # bge-m3: 1024 dim\n",
    "docstore = DocumentStore('seolpyo')\n",
    "\n",
    "retriever = FaissIndex(embedding_model, index, docstore, normalize_L2=True)"
   ]
  },
  {
   "cell_type": "markdown",
   "metadata": {},
   "source": [
    "### 대화 벡터들을 인덱스에 저장"
   ]
  },
  {
   "cell_type": "code",
   "execution_count": 19,
   "metadata": {},
   "outputs": [
    {
     "name": "stderr",
     "output_type": "stream",
     "text": [
      "INFO:docstore:Added message: Message(message={'role': 'user', 'content': '안녕하세요!'}, metadatas={'_id': '6980dade', 'timestamp': 1722791794.878166, 'session_id': 'f56f808b'})\n",
      "INFO:docstore:Added message: Message(message={'role': 'assistant', 'content': '안녕하세요! 반갑습니다. 무엇을 도와드릴까요?'}, metadatas={'_id': '89e90c14', 'timestamp': 1722791799.399368, 'session_id': 'f56f808b'})\n",
      "INFO:docstore:Updated history: {'text': '### 명령어: 안녕하세요!\\n### 응답: 안녕하세요! 반갑습니다. 무엇을 도와드릴까요?', 'relative_time': 5.845994710922241}\n",
      "INFO:retriever:Added 1 history vector to the index\n",
      "INFO:retriever:Added 5.845994710922241sec to relative timestamps\n",
      "INFO:docstore:Added message: Message(message={'role': 'user', 'content': '요즘 삶이 너무 무료하고 심심해요.'}, metadatas={'_id': '1f6da739', 'timestamp': 1722791803.777767, 'session_id': 'f56f808b'})\n",
      "INFO:docstore:Added message: Message(message={'role': 'assistant', 'content': '그렇다면 새로운 취미를 찾아보는 건 어떨까요? 예를 들어 사이클이나 런닝같은 활동적인 것들은 어떤가요?'}, metadatas={'_id': '3a66273a', 'timestamp': 1722791806.1985953, 'session_id': 'f56f808b'})\n",
      "INFO:docstore:Updated history: {'text': '### 명령어: 요즘 삶이 너무 무료하고 심심해요.\\n### 응답: 그렇다면 새로운 취미를 찾아보는 건 어떨까요? 예를 들어 사이클이나 런닝같은 활동적인 것들은 어떤가요?', 'relative_time': 12.645221948623657}\n",
      "INFO:retriever:Added 1 history vector to the index\n",
      "INFO:retriever:Added 12.645221948623657sec to relative timestamps\n",
      "INFO:docstore:Added message: Message(message={'role': 'user', 'content': '오늘 날씨가 어때요?'}, metadatas={'_id': 'cf66af3f', 'timestamp': 1722791811.658655, 'session_id': 'f56f808b'})\n",
      "INFO:docstore:Added message: Message(message={'role': 'assistant', 'content': '죄송하지만 저는 실시간 날씨 정보를 제공할 수 없습니다. 대신 일반적인 날씨 관련 조언을 드릴 수 있어요.'}, metadatas={'_id': 'cfc45f84', 'timestamp': 1722791812.8788195, 'session_id': 'f56f808b'})\n",
      "INFO:docstore:Updated history: {'text': '### 명령어: 오늘 날씨가 어때요?\\n### 응답: 죄송하지만 저는 실시간 날씨 정보를 제공할 수 없습니다. 대신 일반적인 날씨 관련 조언을 드릴 수 있어요.', 'relative_time': 19.325446128845215}\n",
      "INFO:retriever:Added 1 history vector to the index\n",
      "INFO:retriever:Added 19.325446128845215sec to relative timestamps\n",
      "INFO:docstore:Added message: Message(message={'role': 'user', 'content': '그럼 여름철 더위 대비 팁 좀 알려주세요.'}, metadatas={'_id': 'eb02d630', 'timestamp': 1722791817.539546, 'session_id': 'f56f808b'})\n",
      "INFO:docstore:Added message: Message(message={'role': 'assistant', 'content': '여름철 더위 대비 팁을 알려드리겠습니다. 1. 충분한 수분 섭취 2. 헐렁한 옷 입기 3. 그늘에서 쉬기 4. 선크림 바르기 5. 에어컨 적절히 사용하기'}, metadatas={'_id': 'c312bb22', 'timestamp': 1722791818.7482495, 'session_id': 'f56f808b'})\n",
      "INFO:docstore:Updated history: {'text': '### 명령어: 그럼 여름철 더위 대비 팁 좀 알려주세요.\\n### 응답: 여름철 더위 대비 팁을 알려드리겠습니다. 1. 충분한 수분 섭취 2. 헐렁한 옷 입기 3. 그늘에서 쉬기 4. 선크림 바르기 5. 에어컨 적절히 사용하기', 'relative_time': 25.194876194000244}\n",
      "INFO:retriever:Added 1 history vector to the index\n",
      "INFO:retriever:Added 25.194876194000244sec to relative timestamps\n",
      "INFO:docstore:Added message: Message(message={'role': 'user', 'content': '고마워요. 이제 다른 주제로 넘어갈게요. 취미 추천해주세요.'}, metadatas={'_id': '199eb074', 'timestamp': 1722791822.2288797, 'session_id': 'f56f808b'})\n",
      "INFO:docstore:Added message: Message(message={'role': 'assistant', 'content': '취미 추천 드리겠습니다. 1. 독서 2. 요리 3. 그림 그리기 4. 운동 (조깅, 요가 등) 5. 악기 연주 6. 정원 가꾸기 7. 사진 촬영 8. 외국어 공부. 이 중에서 관심 있는 것이 있나요?'}, metadatas={'_id': '7e73207f', 'timestamp': 1722791825.8841977, 'session_id': 'f56f808b'})\n",
      "INFO:docstore:Updated history: {'text': '### 명령어: 고마워요. 이제 다른 주제로 넘어갈게요. 취미 추천해주세요.\\n### 응답: 취미 추천 드리겠습니다. 1. 독서 2. 요리 3. 그림 그리기 4. 운동 (조깅, 요가 등) 5. 악기 연주 6. 정원 가꾸기 7. 사진 촬영 8. 외국어 공부. 이 중에서 관심 있는 것이 있나요?', 'relative_time': 32.33082437515259}\n",
      "INFO:retriever:Added 1 history vector to the index\n",
      "INFO:retriever:Added 32.33082437515259sec to relative timestamps\n",
      "INFO:docstore:Added message: Message(message={'role': 'user', 'content': '음악에 관심이 있어요. 피아노를 배우고 싶은데 어떻게 시작하면 좋을까요?'}, metadatas={'_id': 'e7597f60', 'timestamp': 1722791828.5445542, 'session_id': 'f56f808b'})\n",
      "INFO:docstore:Added message: Message(message={'role': 'assistant', 'content': '피아노를 배우고 싶으시군요! 좋은 선택입니다. 시작하는 방법을 알려드리겠습니다. 1. 기초 악보 읽기 연습 2. 간단한 디지털 피아노나 키보드 구매 3. 온라인 무료 레슨 영상 활용 4. 근처 음악학원 등록 고려 5. 매일 조금씩이라도 연습하기. 천천히 시작해서 꾸준히 하는 것이 중요해요!'}, metadatas={'_id': '00ff6eed', 'timestamp': 1722791831.4154434, 'session_id': 'f56f808b'})\n",
      "INFO:docstore:Updated history: {'text': '### 명령어: 음악에 관심이 있어요. 피아노를 배우고 싶은데 어떻게 시작하면 좋을까요?\\n### 응답: 피아노를 배우고 싶으시군요! 좋은 선택입니다. 시작하는 방법을 알려드리겠습니다. 1. 기초 악보 읽기 연습 2. 간단한 디지털 피아노나 키보드 구매 3. 온라인 무료 레슨 영상 활용 4. 근처 음악학원 등록 고려 5. 매일 조금씩이라도 연습하기. 천천히 시작해서 꾸준히 하는 것이 중요해요!', 'relative_time': 37.862070083618164}\n",
      "INFO:retriever:Added 1 history vector to the index\n",
      "INFO:retriever:Added 37.862070083618164sec to relative timestamps\n",
      "INFO:docstore:Added message: Message(message={'role': 'user', 'content': '좋은 조언 고마워요. 이제 좀 피곤한데 재미있는 이야기 해줄래요?'}, metadatas={'_id': 'a1d3cab5', 'timestamp': 1722791835.3988912, 'session_id': 'f56f808b'})\n",
      "INFO:docstore:Added message: Message(message={'role': 'assistant', 'content': \"물론이죠! 재미있는 이야기를 해드리겠습니다. 옛날 옛적에 한 농부가 있었어요. 이 농부는 매일 아침 닭장에 가서 황금알을 낳는 거위를 확인했답니다. 어느 날, 농부는 욕심이 생겨 '거위 배 안에 황금 덩어리가 있을 거야!'라고 생각했어요. 그래서 거위를 잡아 배를 갈랐죠. 하지만 안타깝게도 배 안에는 아무것도 없었고, 황금알을 낳는 거위는 죽고 말았답니다. 이 이야기의 교훈은 '욕심을 부리다 보면 가진 것마저 잃을 수 있다'는 거예요. 재미있게 들으셨나요?\"}, metadatas={'_id': '89b90455', 'timestamp': 1722791836.8557453, 'session_id': 'f56f808b'})\n",
      "INFO:docstore:Updated history: {'text': \"### 명령어: 좋은 조언 고마워요. 이제 좀 피곤한데 재미있는 이야기 해줄래요?\\n### 응답: 물론이죠! 재미있는 이야기를 해드리겠습니다. 옛날 옛적에 한 농부가 있었어요. 이 농부는 매일 아침 닭장에 가서 황금알을 낳는 거위를 확인했답니다. 어느 날, 농부는 욕심이 생겨 '거위 배 안에 황금 덩어리가 있을 거야!'라고 생각했어요. 그래서 거위를 잡아 배를 갈랐죠. 하지만 안타깝게도 배 안에는 아무것도 없었고, 황금알을 낳는 거위는 죽고 말았답니다. 이 이야기의 교훈은 '욕심을 부리다 보면 가진 것마저 잃을 수 있다'는 거예요. 재미있게 들으셨나요?\", 'relative_time': 43.302371978759766}\n",
      "INFO:retriever:Added 1 history vector to the index\n",
      "INFO:retriever:Added 43.302371978759766sec to relative timestamps\n",
      "INFO:docstore:Added message: Message(message={'role': 'user', 'content': '네, 재미있었어요. 이제 자러 갈게요. 잘자요!'}, metadatas={'_id': 'a6de6032', 'timestamp': 1722791843.5845253, 'session_id': 'f56f808b'})\n",
      "INFO:docstore:Added message: Message(message={'role': 'assistant', 'content': '네, 잘 들어주셔서 감사합니다. 좋은 꿈 꾸세요! 편안한 밤 되세요. 내일도 좋은 하루 되길 바랄게요. 안녕히 주무세요!'}, metadatas={'_id': '4783b807', 'timestamp': 1722791846.930406, 'session_id': 'f56f808b'})\n",
      "INFO:docstore:Updated history: {'text': '### 명령어: 네, 재미있었어요. 이제 자러 갈게요. 잘자요!\\n### 응답: 네, 잘 들어주셔서 감사합니다. 좋은 꿈 꾸세요! 편안한 밤 되세요. 내일도 좋은 하루 되길 바랄게요. 안녕히 주무세요!', 'relative_time': 53.37703275680542}\n",
      "INFO:retriever:Added 1 history vector to the index\n",
      "INFO:retriever:Added 53.37703275680542sec to relative timestamps\n"
     ]
    }
   ],
   "source": [
    "for role, text in conversations:\n",
    "    docstore.add(role, text)\n",
    "    if role == \"assistant\":\n",
    "        retriever.add_to_index(docstore.history[-1])\n",
    "    time.sleep(np.random.uniform(1, 5))"
   ]
  },
  {
   "cell_type": "markdown",
   "metadata": {},
   "source": [
    "### 쿼리와 유사한 대화 k개 검색"
   ]
  },
  {
   "cell_type": "code",
   "execution_count": 20,
   "metadata": {},
   "outputs": [
    {
     "name": "stdout",
     "output_type": "stream",
     "text": [
      "\n",
      "User query: 밖에 날씨가 어때?\n",
      "1. Distance: 0.7859041264810275, Index: 2\n",
      "Content: ### 명령어: 오늘 날씨가 어때요?\n",
      "### 응답: 죄송하지만 저는 실시간 날씨 정보를 제공할 수 없습니다. 대신 일반적인 날씨 관련 조언을 드릴 수 있어요.\n",
      "2. Distance: 0.9484258388209601, Index: 3\n",
      "Content: ### 명령어: 그럼 여름철 더위 대비 팁 좀 알려주세요.\n",
      "### 응답: 여름철 더위 대비 팁을 알려드리겠습니다. 1. 충분한 수분 섭취 2. 헐렁한 옷 입기 3. 그늘에서 쉬기 4. 선크림 바르기 5. 에어컨 적절히 사용하기\n",
      "\n",
      "User query: 심심한데 뭐 하면 좋을까요?\n",
      "1. Distance: 0.7267355469029055, Index: 1\n",
      "Content: ### 명령어: 요즘 삶이 너무 무료하고 심심해요.\n",
      "### 응답: 그렇다면 새로운 취미를 찾아보는 건 어떨까요? 예를 들어 사이클이나 런닝같은 활동적인 것들은 어떤가요?\n",
      "2. Distance: 0.8059714115882073, Index: 4\n",
      "Content: ### 명령어: 고마워요. 이제 다른 주제로 넘어갈게요. 취미 추천해주세요.\n",
      "### 응답: 취미 추천 드리겠습니다. 1. 독서 2. 요리 3. 그림 그리기 4. 운동 (조깅, 요가 등) 5. 악기 연주 6. 정원 가꾸기 7. 사진 촬영 8. 외국어 공부. 이 중에서 관심 있는 것이 있나요?\n",
      "\n",
      "User query: 음악을 배우고 싶어요\n",
      "1. Distance: 0.5752006998718946, Index: 5\n",
      "Content: ### 명령어: 음악에 관심이 있어요. 피아노를 배우고 싶은데 어떻게 시작하면 좋을까요?\n",
      "### 응답: 피아노를 배우고 싶으시군요! 좋은 선택입니다. 시작하는 방법을 알려드리겠습니다. 1. 기초 악보 읽기 연습 2. 간단한 디지털 피아노나 키보드 구매 3. 온라인 무료 레슨 영상 활용 4. 근처 음악학원 등록 고려 5. 매일 조금씩이라도 연습하기. 천천히 시작해서 꾸준히 하는 것이 중요해요!\n",
      "2. Distance: 0.8120010770583306, Index: 4\n",
      "Content: ### 명령어: 고마워요. 이제 다른 주제로 넘어갈게요. 취미 추천해주세요.\n",
      "### 응답: 취미 추천 드리겠습니다. 1. 독서 2. 요리 3. 그림 그리기 4. 운동 (조깅, 요가 등) 5. 악기 연주 6. 정원 가꾸기 7. 사진 촬영 8. 외국어 공부. 이 중에서 관심 있는 것이 있나요?\n",
      "\n",
      "User query: 심심한데 재밌는 얘기 해줄래?\n",
      "1. Distance: 0.713994026184082, Index: 7\n",
      "Content: ### 명령어: 네, 재미있었어요. 이제 자러 갈게요. 잘자요!\n",
      "### 응답: 네, 잘 들어주셔서 감사합니다. 좋은 꿈 꾸세요! 편안한 밤 되세요. 내일도 좋은 하루 되길 바랄게요. 안녕히 주무세요!\n",
      "2. Distance: 0.8192558434765445, Index: 1\n",
      "Content: ### 명령어: 요즘 삶이 너무 무료하고 심심해요.\n",
      "### 응답: 그렇다면 새로운 취미를 찾아보는 건 어떨까요? 예를 들어 사이클이나 런닝같은 활동적인 것들은 어떤가요?\n",
      "\n",
      "User query: 요즘 취미로 소설을 쓰고 있는데 재미있는 이야기 소재가 있을까?잘 자!!\n",
      "1. Distance: 0.6487227082252502, Index: 7\n",
      "Content: ### 명령어: 네, 재미있었어요. 이제 자러 갈게요. 잘자요!\n",
      "### 응답: 네, 잘 들어주셔서 감사합니다. 좋은 꿈 꾸세요! 편안한 밤 되세요. 내일도 좋은 하루 되길 바랄게요. 안녕히 주무세요!\n",
      "2. Distance: 0.7783041275763665, Index: 4\n",
      "Content: ### 명령어: 고마워요. 이제 다른 주제로 넘어갈게요. 취미 추천해주세요.\n",
      "### 응답: 취미 추천 드리겠습니다. 1. 독서 2. 요리 3. 그림 그리기 4. 운동 (조깅, 요가 등) 5. 악기 연주 6. 정원 가꾸기 7. 사진 촬영 8. 외국어 공부. 이 중에서 관심 있는 것이 있나요?\n",
      "\n",
      "User query: 요즘 너무 덥고 습해서 미치겠어요. 날씨가 왜 이런건지..\n",
      "1. Distance: 0.809438476436164, Index: 3\n",
      "Content: ### 명령어: 그럼 여름철 더위 대비 팁 좀 알려주세요.\n",
      "### 응답: 여름철 더위 대비 팁을 알려드리겠습니다. 1. 충분한 수분 섭취 2. 헐렁한 옷 입기 3. 그늘에서 쉬기 4. 선크림 바르기 5. 에어컨 적절히 사용하기\n",
      "2. Distance: 0.859299021080942, Index: 2\n",
      "Content: ### 명령어: 오늘 날씨가 어때요?\n",
      "### 응답: 죄송하지만 저는 실시간 날씨 정보를 제공할 수 없습니다. 대신 일반적인 날씨 관련 조언을 드릴 수 있어요.\n"
     ]
    }
   ],
   "source": [
    "queries = [\n",
    "    \"밖에 날씨가 어때?\",\n",
    "    \"심심한데 뭐 하면 좋을까요?\",\n",
    "    \"음악을 배우고 싶어요\",\n",
    "    \"심심한데 재밌는 얘기 해줄래?\",\n",
    "    \"요즘 취미로 소설을 쓰고 있는데 재미있는 이야기 소재가 있을까?\"\n",
    "    \"잘 자!!\",\n",
    "    \"요즘 너무 덥고 습해서 미치겠어요. 날씨가 왜 이런건지..\"\n",
    "]\n",
    "\n",
    "for query in queries:\n",
    "    distances, indices = retriever.search_similar(query)\n",
    "    FaissIndex.print_results(query, distances, indices, docstore)"
   ]
  },
  {
   "cell_type": "markdown",
   "metadata": {},
   "source": [
    "### 시간 가중치 변경에 따른 결과 비교"
   ]
  },
  {
   "cell_type": "code",
   "execution_count": 24,
   "metadata": {},
   "outputs": [
    {
     "name": "stdout",
     "output_type": "stream",
     "text": [
      "\n",
      "시간 가중치: 0\n",
      "\n",
      "User query: 너무 심심해요. 뭐 재미있는 거 없나요??\n",
      "1. Distance: 0.6610167026519775, Index: 1\n",
      "Content: ### 명령어: 요즘 삶이 너무 무료하고 심심해요.\n",
      "### 응답: 그렇다면 새로운 취미를 찾아보는 건 어떨까요? 예를 들어 사이클이나 런닝같은 활동적인 것들은 어떤가요?\n",
      "2. Distance: 0.8920535445213318, Index: 4\n",
      "Content: ### 명령어: 고마워요. 이제 다른 주제로 넘어갈게요. 취미 추천해주세요.\n",
      "### 응답: 취미 추천 드리겠습니다. 1. 독서 2. 요리 3. 그림 그리기 4. 운동 (조깅, 요가 등) 5. 악기 연주 6. 정원 가꾸기 7. 사진 촬영 8. 외국어 공부. 이 중에서 관심 있는 것이 있나요?\n",
      "3. Distance: 0.9587647914886475, Index: 7\n",
      "Content: ### 명령어: 네, 재미있었어요. 이제 자러 갈게요. 잘자요!\n",
      "### 응답: 네, 잘 들어주셔서 감사합니다. 좋은 꿈 꾸세요! 편안한 밤 되세요. 내일도 좋은 하루 되길 바랄게요. 안녕히 주무세요!\n",
      "\n",
      "시간 가중치: 0.25\n",
      "\n",
      "User query: 너무 심심해요. 뭐 재미있는 거 없나요??\n",
      "1. Distance: 0.7100004885545506, Index: 1\n",
      "Content: ### 명령어: 요즘 삶이 너무 무료하고 심심해요.\n",
      "### 응답: 그렇다면 새로운 취미를 찾아보는 건 어떨까요? 예를 들어 사이클이나 런닝같은 활동적인 것들은 어떤가요?\n",
      "2. Distance: 0.7190735936164856, Index: 7\n",
      "Content: ### 명령어: 네, 재미있었어요. 이제 자러 갈게요. 잘자요!\n",
      "### 응답: 네, 잘 들어주셔서 감사합니다. 좋은 꿈 꾸세요! 편안한 밤 되세요. 내일도 좋은 하루 되길 바랄게요. 안녕히 주무세요!\n",
      "3. Distance: 0.779737328144927, Index: 4\n",
      "Content: ### 명령어: 고마워요. 이제 다른 주제로 넘어갈게요. 취미 추천해주세요.\n",
      "### 응답: 취미 추천 드리겠습니다. 1. 독서 2. 요리 3. 그림 그리기 4. 운동 (조깅, 요가 등) 5. 악기 연주 6. 정원 가꾸기 7. 사진 촬영 8. 외국어 공부. 이 중에서 관심 있는 것이 있나요?\n",
      "\n",
      "시간 가중치: 0.5\n",
      "\n",
      "User query: 너무 심심해요. 뭐 재미있는 거 없나요??\n",
      "1. Distance: 0.47938239574432373, Index: 7\n",
      "Content: ### 명령어: 네, 재미있었어요. 이제 자러 갈게요. 잘자요!\n",
      "### 응답: 네, 잘 들어주셔서 감사합니다. 좋은 꿈 꾸세요! 편안한 밤 되세요. 내일도 좋은 하루 되길 바랄게요. 안녕히 주무세요!\n",
      "2. Distance: 0.6674211415708446, Index: 4\n",
      "Content: ### 명령어: 고마워요. 이제 다른 주제로 넘어갈게요. 취미 추천해주세요.\n",
      "### 응답: 취미 추천 드리겠습니다. 1. 독서 2. 요리 3. 그림 그리기 4. 운동 (조깅, 요가 등) 5. 악기 연주 6. 정원 가꾸기 7. 사진 촬영 8. 외국어 공부. 이 중에서 관심 있는 것이 있나요?\n",
      "3. Distance: 0.7589842744571236, Index: 1\n",
      "Content: ### 명령어: 요즘 삶이 너무 무료하고 심심해요.\n",
      "### 응답: 그렇다면 새로운 취미를 찾아보는 건 어떨까요? 예를 들어 사이클이나 런닝같은 활동적인 것들은 어떤가요?\n",
      "\n",
      "시간 가중치: 0.75\n",
      "\n",
      "User query: 너무 심심해요. 뭐 재미있는 거 없나요??\n",
      "1. Distance: 0.23969119787216187, Index: 7\n",
      "Content: ### 명령어: 네, 재미있었어요. 이제 자러 갈게요. 잘자요!\n",
      "### 응답: 네, 잘 들어주셔서 감사합니다. 좋은 꿈 꾸세요! 편안한 밤 되세요. 내일도 좋은 하루 되길 바랄게요. 안녕히 주무세요!\n",
      "2. Distance: 0.555104940095601, Index: 4\n",
      "Content: ### 명령어: 고마워요. 이제 다른 주제로 넘어갈게요. 취미 추천해주세요.\n",
      "### 응답: 취미 추천 드리겠습니다. 1. 독서 2. 요리 3. 그림 그리기 4. 운동 (조깅, 요가 등) 5. 악기 연주 6. 정원 가꾸기 7. 사진 촬영 8. 외국어 공부. 이 중에서 관심 있는 것이 있나요?\n",
      "3. Distance: 0.8079680603596965, Index: 1\n",
      "Content: ### 명령어: 요즘 삶이 너무 무료하고 심심해요.\n",
      "### 응답: 그렇다면 새로운 취미를 찾아보는 건 어떨까요? 예를 들어 사이클이나 런닝같은 활동적인 것들은 어떤가요?\n",
      "\n",
      "시간 가중치: 1\n",
      "\n",
      "User query: 너무 심심해요. 뭐 재미있는 거 없나요??\n",
      "1. Distance: 0.0, Index: 7\n",
      "Content: ### 명령어: 네, 재미있었어요. 이제 자러 갈게요. 잘자요!\n",
      "### 응답: 네, 잘 들어주셔서 감사합니다. 좋은 꿈 꾸세요! 편안한 밤 되세요. 내일도 좋은 하루 되길 바랄게요. 안녕히 주무세요!\n",
      "2. Distance: 0.44278873862035745, Index: 4\n",
      "Content: ### 명령어: 고마워요. 이제 다른 주제로 넘어갈게요. 취미 추천해주세요.\n",
      "### 응답: 취미 추천 드리겠습니다. 1. 독서 2. 요리 3. 그림 그리기 4. 운동 (조깅, 요가 등) 5. 악기 연주 6. 정원 가꾸기 7. 사진 촬영 8. 외국어 공부. 이 중에서 관심 있는 것이 있나요?\n",
      "3. Distance: 0.8569518462622695, Index: 1\n",
      "Content: ### 명령어: 요즘 삶이 너무 무료하고 심심해요.\n",
      "### 응답: 그렇다면 새로운 취미를 찾아보는 건 어떨까요? 예를 들어 사이클이나 런닝같은 활동적인 것들은 어떤가요?\n"
     ]
    }
   ],
   "source": [
    "test_query = \"너무 심심해요. 뭐 재미있는 거 없나요??\"\n",
    "\n",
    "for time_weight in [0, 0.25, 0.5, 0.75, 1]:\n",
    "    distances, indices = retriever.search_similar(test_query, k=3, time_weight=time_weight)\n",
    "    print(f\"\\n시간 가중치: {time_weight}\")\n",
    "    FaissRetriever.print_results(test_query, distances, indices, docstore)"
   ]
  }
 ],
 "metadata": {
  "kernelspec": {
   "display_name": "Python 3",
   "language": "python",
   "name": "python3"
  },
  "language_info": {
   "codemirror_mode": {
    "name": "ipython",
    "version": 3
   },
   "file_extension": ".py",
   "mimetype": "text/x-python",
   "name": "python",
   "nbconvert_exporter": "python",
   "pygments_lexer": "ipython3",
   "version": "3.11.9"
  }
 },
 "nbformat": 4,
 "nbformat_minor": 2
}
